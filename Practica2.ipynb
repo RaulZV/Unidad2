{
  "nbformat": 4,
  "nbformat_minor": 0,
  "metadata": {
    "colab": {
      "provenance": [],
      "authorship_tag": "ABX9TyP4pC8sqlQUHvONpZDBbiwo",
      "include_colab_link": true
    },
    "kernelspec": {
      "name": "python3",
      "display_name": "Python 3"
    },
    "language_info": {
      "name": "python"
    }
  },
  "cells": [
    {
      "cell_type": "markdown",
      "metadata": {
        "id": "view-in-github",
        "colab_type": "text"
      },
      "source": [
        "<a href=\"https://colab.research.google.com/github/RaulZV/Unidad2/blob/main/Practica2.ipynb\" target=\"_parent\"><img src=\"https://colab.research.google.com/assets/colab-badge.svg\" alt=\"Open In Colab\"/></a>"
      ]
    },
    {
      "cell_type": "markdown",
      "source": [
        "Raul Zamora Valles - Practica 2 de Pandas\n",
        "7 de octubre de 2025\n",
        "---------------------\n",
        "DataFrames de Pandas\n",
        "--------------------\n",
        "Un DataFrame es una estructura de datos bidimensional, como una matriz o tabla con filas y columnas\n",
        "---------------------------------\n",
        "Ejemplo: Crea una DataFrmae basico:\n",
        "----------------------------------"
      ],
      "metadata": {
        "id": "MqSZNpNf12wD"
      }
    },
    {
      "cell_type": "code",
      "source": [
        "import pandas as pd\n",
        "\n",
        "datos = {\n",
        "    \"calorias\": [420, 380, 390],\n",
        "    \"duracion\": [50, 40, 45]\n",
        "}\n",
        "#cargar datos dentro del DATAFRAME\n",
        "dataframe = pd.DataFrame(datos)\n",
        "print(dataframe)"
      ],
      "metadata": {
        "colab": {
          "base_uri": "https://localhost:8080/"
        },
        "id": "sh99WjB63J79",
        "outputId": "f54d492f-96dd-4752-e222-c0af14a8cf03"
      },
      "execution_count": 1,
      "outputs": [
        {
          "output_type": "stream",
          "name": "stdout",
          "text": [
            "   calorias  duracion\n",
            "0       420        50\n",
            "1       380        40\n",
            "2       390        45\n"
          ]
        }
      ]
    },
    {
      "cell_type": "markdown",
      "source": [
        "Localizar filas\n",
        "------------\n",
        "Como puedes ver en el resultado anterior, el DataFrma es como una tabla con filas y columnas.\n",
        "Pandas usa el atributo \"loc\" para devolver una o mas filas especificas\n",
        "------------------\n",
        "Ejemplo: Devuelve la fila 0\n",
        "-----------------"
      ],
      "metadata": {
        "id": "hDmb4kQq69vn"
      }
    },
    {
      "cell_type": "code",
      "source": [
        "import pandas as pd\n",
        "\n",
        "datos = {\n",
        "    \"calorias\": [420, 380, 390],\n",
        "    \"duracion\": [50, 40, 45]\n",
        "}\n",
        "#cargar datos dentro del DATAFRAME\n",
        "dataframe = pd.DataFrame(datos)\n",
        "print(dataframe.loc[0])"
      ],
      "metadata": {
        "colab": {
          "base_uri": "https://localhost:8080/"
        },
        "id": "ewZNcDz07qJQ",
        "outputId": "c5aee108-9d6f-4681-a1a5-166843a8a590"
      },
      "execution_count": 1,
      "outputs": [
        {
          "output_type": "stream",
          "name": "stdout",
          "text": [
            "calorias    420\n",
            "duracion     50\n",
            "Name: 0, dtype: int64\n"
          ]
        }
      ]
    },
    {
      "cell_type": "markdown",
      "source": [
        "Ejemplo: Devuelve las filas 0 y 1:\n",
        "------------------"
      ],
      "metadata": {
        "id": "EZLCkPnQ9jcd"
      }
    },
    {
      "cell_type": "code",
      "source": [
        "import pandas as pd\n",
        "\n",
        "datos = {\n",
        "    \"calorias\": [420, 380, 390],\n",
        "    \"duracion\": [50, 40, 45]\n",
        "}\n",
        "#cargar datos dentro del DATAFRAME\n",
        "dataframe = pd.DataFrame(datos)\n",
        "print(dataframe.loc[[0,1]])"
      ],
      "metadata": {
        "colab": {
          "base_uri": "https://localhost:8080/"
        },
        "id": "ilF9m5rN9tWe",
        "outputId": "01d53401-0172-4f3f-b5e2-87cfa2ddfd8e"
      },
      "execution_count": 2,
      "outputs": [
        {
          "output_type": "stream",
          "name": "stdout",
          "text": [
            "   calorias  duracion\n",
            "0       420        50\n",
            "1       380        40\n"
          ]
        }
      ]
    },
    {
      "cell_type": "markdown",
      "source": [
        "Indices nombrados\n",
        "-------------\n",
        "Con el argumento \"index\", puedes nombrar tus propios indices o etiquetas.\n",
        "Ejemplo: Agrega una lista de nombres para darle una etiqueta a cada fila\n",
        "----------------------"
      ],
      "metadata": {
        "id": "YG3KSBHw-fiT"
      }
    },
    {
      "cell_type": "code",
      "source": [
        "import pandas as pd\n",
        "\n",
        "datos = {\n",
        "    \"calorias\": [420, 380, 390],\n",
        "    \"duracion\": [50, 40, 45]\n",
        "}\n",
        "#cargar datos dentro del DATAFRAME\n",
        "dataframe = pd.DataFrame(datos, index = [\"dia-1\", \"dia-2\", \"dia-3\"])\n",
        "print(dataframe)"
      ],
      "metadata": {
        "colab": {
          "base_uri": "https://localhost:8080/"
        },
        "id": "hg6W5irx-7PG",
        "outputId": "0524d55c-39c1-4e7b-ff7b-e06aac13fbc1"
      },
      "execution_count": 3,
      "outputs": [
        {
          "output_type": "stream",
          "name": "stdout",
          "text": [
            "       calorias  duracion\n",
            "dia-1       420        50\n",
            "dia-2       380        40\n",
            "dia-3       390        45\n"
          ]
        }
      ]
    },
    {
      "cell_type": "markdown",
      "source": [
        "Localizar indices por el nombre o etiqueta\n",
        "Utilice el atributo \"loc\" para devolver la(s) fila(s) especificas\n",
        "--------------------\n",
        "Ejemplo: Devuelve la fila dia-2\n",
        "----------------------"
      ],
      "metadata": {
        "id": "5JeqOVLl_qPl"
      }
    },
    {
      "cell_type": "code",
      "source": [
        "import pandas as pd\n",
        "\n",
        "datos = {\n",
        "    \"calorias\": [420, 380, 390],\n",
        "    \"duracion\": [50, 40, 45]\n",
        "}\n",
        "#cargar datos dentro del DATAFRAME\n",
        "dataframe = pd.DataFrame(datos, index = [\"dia-1\", \"dia-2\", \"dia-3\"])\n",
        "print(dataframe.loc[\"dia-2\"])"
      ],
      "metadata": {
        "colab": {
          "base_uri": "https://localhost:8080/"
        },
        "id": "ttDrcDCGAGcZ",
        "outputId": "bde784e5-c636-4a8e-be2c-e4fce5811005"
      },
      "execution_count": 5,
      "outputs": [
        {
          "output_type": "stream",
          "name": "stdout",
          "text": [
            "calorias    380\n",
            "duracion     40\n",
            "Name: dia-2, dtype: int64\n"
          ]
        }
      ]
    }
  ]
}